{
 "cells": [
  {
   "cell_type": "code",
   "execution_count": 1,
   "id": "862518cd-0379-4e01-8bad-0f45d9426bc5",
   "metadata": {},
   "outputs": [],
   "source": [
    "import numpy as np\n",
    "import matplotlib as mpl\n",
    "import matplotlib.pyplot as plt\n",
    "import matplotlib.animation\n",
    "\n"
   ]
  },
  {
   "cell_type": "code",
   "execution_count": 2,
   "id": "1fcc39b1-3aa8-4e96-b561-b863a0ba8f72",
   "metadata": {},
   "outputs": [],
   "source": [
    "dim = 2  # Number of room dimensions.\n",
    "T = 100  # Simulation duration T\n",
    "dt = 0.005  # time step or increment dt [s]."
   ]
  },
  {
   "cell_type": "code",
   "execution_count": 3,
   "id": "022cfeac-6aea-4406-9353-d8dfa7ccbb9c",
   "metadata": {},
   "outputs": [
    {
     "data": {
      "text/plain": [
       "array([[-1.  ,  0.  ],\n",
       "       [ 0.5 ,  0.  ],\n",
       "       [ 0.45, -0.05],\n",
       "       [ 0.45,  0.05],\n",
       "       [ 0.55, -0.05],\n",
       "       [ 0.55,  0.05]])"
      ]
     },
     "execution_count": 3,
     "metadata": {},
     "output_type": "execute_result"
    }
   ],
   "source": [
    "# initial positions of particles [m]  (x,y)\n",
    "# limit to six identical particles that can move in a rectangular field\n",
    "# store the initial positions of the particles in a 6 × 2 array:\n",
    "r0 = np.array([[-1.0, 0.0],  [0.5, 0.0], [0.45, -0.05],\n",
    "               [0.45, 0.05], [0.55, -0.05], [0.55, 0.05]])\n",
    "r0"
   ]
  },
  {
   "cell_type": "code",
   "execution_count": 4,
   "id": "2a7ae92a-fcbb-4e6e-afde-0dae164a95dd",
   "metadata": {},
   "outputs": [
    {
     "data": {
      "text/plain": [
       "6"
      ]
     },
     "execution_count": 4,
     "metadata": {},
     "output_type": "execute_result"
    }
   ],
   "source": [
    "\n",
    "# Number of particles.\n",
    "N = r0.shape[0]\n",
    "N"
   ]
  },
  {
   "cell_type": "code",
   "execution_count": 18,
   "id": "03fbb60e-28ab-41a2-bfca-abfd24385b7e",
   "metadata": {},
   "outputs": [
    {
     "name": "stdout",
     "output_type": "stream",
     "text": [
      "[[0. 0.]\n",
      " [0. 0.]\n",
      " [0. 0.]\n",
      " [0. 0.]\n",
      " [0. 0.]\n",
      " [0. 0.]]\n",
      "v0 =[3. 0.] \n",
      "[[3. 0.]\n",
      " [0. 0.]\n",
      " [0. 0.]\n",
      " [0. 0.]\n",
      " [0. 0.]\n",
      " [0. 0.]]\n"
     ]
    }
   ],
   "source": [
    "\n",
    "# Initial speeds [m/s].\n",
    "# all initial speeds is zero.\n",
    "# Only the first particle should move to the right with a speed of 3 m/s.\n",
    "v = np.zeros((N, dim))\n",
    "print(v)\n",
    "\n",
    "v[0] = np.array([3.0, 0.0])  # velocity of first object is only along x axis\n",
    "\n",
    "print(f\"v0 ={v[0]} \")\n",
    "print(v)"
   ]
  },
  {
   "cell_type": "code",
   "execution_count": 6,
   "id": "6e0f8b30-98b4-41ec-a61e-7f6baec03ae9",
   "metadata": {},
   "outputs": [
    {
     "name": "stdout",
     "output_type": "stream",
     "text": [
      "[0.03 0.03 0.03 0.03 0.03 0.03]\n",
      "[0.2 0.2 0.2 0.2 0.2 0.2]\n"
     ]
    }
   ],
   "source": [
    "# radii of the individual particles [m]\n",
    "# create an array that contains the radius for each individual sphere.\n",
    "radius = 0.03 * np.ones(N)\n",
    "print(radius)\n",
    "m = 0.2 * np.ones(N)\n",
    "print(m)"
   ]
  },
  {
   "cell_type": "code",
   "execution_count": 7,
   "id": "54455d10-6f32-4339-a8d6-9df2ea8abf60",
   "metadata": {},
   "outputs": [
    {
     "name": "stdout",
     "output_type": "stream",
     "text": [
      "[1.2 1.2 0.6 0.6]\n",
      "[[-1.  0.]\n",
      " [ 1.  0.]\n",
      " [ 0. -1.]\n",
      " [ 0.  1.]]\n"
     ]
    }
   ],
   "source": [
    "# Hessian normal form , in which a normal vector and the\n",
    "# distance from the coordinate origin are specified for each plane (or straight line)\n",
    "# For each wall, the distance from the coordinate origin\n",
    "# wall_d and an outward-pointing normal vector wall_n specified.\n",
    "# The first two items set the limits at x = ±1.2 m\n",
    "# and the following items set the limits at y = ±0.6 m.\n",
    "wall_d = np.array([1.2, 1.2, 0.6, 0.6])\n",
    "wall_n = np.array([[-1.0, 0], [1.0, 0], [0, -1.0], [0, 1.0]])\n",
    "print(wall_d)\n",
    "print(wall_n)"
   ]
  },
  {
   "cell_type": "code",
   "execution_count": 8,
   "id": "b46bc0e9-f0d1-4b48-b6ea-bec15e3af7d5",
   "metadata": {},
   "outputs": [
    {
     "name": "stdout",
     "output_type": "stream",
     "text": [
      "t = [0.0000e+00 5.0000e-03 1.0000e-02 ... 9.9985e+01 9.9990e+01 9.9995e+01]\n",
      "r = [[[-1.    0.  ]\n",
      "  [ 0.5   0.  ]\n",
      "  [ 0.45 -0.05]\n",
      "  [ 0.45  0.05]\n",
      "  [ 0.55 -0.05]\n",
      "  [ 0.55  0.05]]\n",
      "\n",
      " [[ 0.    0.  ]\n",
      "  [ 0.    0.  ]\n",
      "  [ 0.    0.  ]\n",
      "  [ 0.    0.  ]\n",
      "  [ 0.    0.  ]\n",
      "  [ 0.    0.  ]]\n",
      "\n",
      " [[ 0.    0.  ]\n",
      "  [ 0.    0.  ]\n",
      "  [ 0.    0.  ]\n",
      "  [ 0.    0.  ]\n",
      "  [ 0.    0.  ]\n",
      "  [ 0.    0.  ]]\n",
      "\n",
      " ...\n",
      "\n",
      " [[ 0.    0.  ]\n",
      "  [ 0.    0.  ]\n",
      "  [ 0.    0.  ]\n",
      "  [ 0.    0.  ]\n",
      "  [ 0.    0.  ]\n",
      "  [ 0.    0.  ]]\n",
      "\n",
      " [[ 0.    0.  ]\n",
      "  [ 0.    0.  ]\n",
      "  [ 0.    0.  ]\n",
      "  [ 0.    0.  ]\n",
      "  [ 0.    0.  ]\n",
      "  [ 0.    0.  ]]\n",
      "\n",
      " [[ 0.    0.  ]\n",
      "  [ 0.    0.  ]\n",
      "  [ 0.    0.  ]\n",
      "  [ 0.    0.  ]\n",
      "  [ 0.    0.  ]\n",
      "  [ 0.    0.  ]]]\n",
      "r[0] = [[-1.    0.  ]\n",
      " [ 0.5   0.  ]\n",
      " [ 0.45 -0.05]\n",
      " [ 0.45  0.05]\n",
      " [ 0.55 -0.05]\n",
      " [ 0.55  0.05]]\n"
     ]
    }
   ],
   "source": [
    "# Smallest time difference at which collisions than simultaneously be accepted [s].\n",
    "epsilon = 1e-9\n",
    "\n",
    "# Create arrays for the simulation result.\n",
    "t = np.arange(0, T, dt)\n",
    "r = np.empty((t.size, N, dim))\n",
    "r[0] = r0\n",
    "print(f\"t = {t}\")\n",
    "print(f\"r = {r}\")\n",
    "print(f\"r[0] = {r[0]}\")"
   ]
  },
  {
   "cell_type": "code",
   "execution_count": 9,
   "id": "c6b0baf1-3a5c-4ea7-891c-be8b9c665f87",
   "metadata": {},
   "outputs": [],
   "source": [
    "def collision_time(r, v):\n",
    "    \"\"\"Indicates the time until the next particle collision and the indices of the participating particles. \"\"\"\n",
    "    # Create N x N x dim arrays that match the pairwise\n",
    "    # Location and speed differences included:\n",
    "    # dr[i, j] is the vector r[i] - r[j]\n",
    "    # dv[i, j] is the vector v[i] - v[j]\n",
    "    dr = r.reshape(N, 1, dim) - r\n",
    "    dv = v.reshape(N, 1, dim) - v\n",
    "    # Create an N x N array containing the squared absolute value of the\n",
    "    # Contains vectors from array dv.\n",
    "    dv2 = np.sum(dv * dv, axis=2)\n",
    "    # Create an N x N array containing the pairwise sum\n",
    "    # contains the radii of the particles.\n",
    "    rad = radius + radius.reshape(N, 1)\n",
    "    # To determine the time of the collision,\n",
    "    # form quadratic equation  t² + 2 a t + b = 0\n",
    "    # be resolved. Only the smaller solution is relevant.\n",
    "    a = np.sum(dv * dr, axis=2) / dv2\n",
    "    b = (np.sum(dr * dr, axis=2) - rad ** 2) / dv2\n",
    "    D = a ** 2 - b\n",
    "    t = -a - np.sqrt(D)\n",
    "    # Find the smallest positive instant of a collision.\n",
    "    t[t <= 0] = np.NaN\n",
    "    t_min = np.nanmin(t)\n",
    "    # Find the corresponding particle indices.\n",
    "    i, j = np.where(np.abs(t - t_min) < epsilon)\n",
    "    # Select the first half of the indices because each\n",
    "    # Particle pairing occurs twice.\n",
    "    i = i[0:i.size // 2]\n",
    "    j = j[0:j.size // 2]\n",
    "    # Return time and particle indices. if\n",
    "    # no collision occurs, then return inf.\n",
    "    if np.isnan(t_min):\n",
    "        t_min = np.inf\n",
    "\n",
    "    return t_min, i, j\n"
   ]
  },
  {
   "cell_type": "code",
   "execution_count": 10,
   "id": "c16ae864-5f9a-4fcd-897c-a61cf4378ff0",
   "metadata": {},
   "outputs": [],
   "source": [
    "\n",
    "def boundary_of_sim(r, v):\n",
    "    \"\"\"Returns the time until the next wall collision, the index of the particles and the index of the wall.\"\"\"\n",
    "    # Calculate the time of the collision of the particles\n",
    "    # one of the walls. The result is an N x number of walls - arrays.\n",
    "    distance = wall_d - radius.reshape(-1, 1) - r @ wall_n.T\n",
    "    t = distance / (v @ wall_n.T)\n",
    "    # Ignore all non-positive tenses.\n",
    "    t[t <= 0] = np.NaN\n",
    "    # Ignore all times when the particle moves\n",
    "    # against the normal vector but due to\n",
    "    # rounding errors it can happen that a particle is slightly outside a wall.\n",
    "    t[(v @ wall_n.T) < 0] = np.NaN\n",
    "    # Find the smallest point in time and give the time and the indices back.\n",
    "    t_min = np.nanmin(t)\n",
    "    particle, wall = np.where(np.abs(t - t_min) < epsilon)\n",
    "    return t_min, particle, wall"
   ]
  },
  {
   "cell_type": "code",
   "execution_count": 11,
   "id": "b6270f2f-50f9-4883-865d-f97525d407c8",
   "metadata": {},
   "outputs": [
    {
     "name": "stdout",
     "output_type": "stream",
     "text": [
      "dt_particle = 0.47227791736548463\n",
      "particle1 = [0 0]\n",
      "particle2 = [2 3]\n",
      "dt_wall = 0.7233333333333333\n",
      "particle_w = [0]\n",
      "wall = [1]\n",
      "dt_collision  = 0.47227791736548463\n"
     ]
    },
    {
     "name": "stderr",
     "output_type": "stream",
     "text": [
      "/tmp/ipykernel_6156/236699363.py:18: RuntimeWarning: invalid value encountered in divide\n",
      "  a = np.sum(dv * dr, axis=2) / dv2\n",
      "/tmp/ipykernel_6156/236699363.py:19: RuntimeWarning: divide by zero encountered in divide\n",
      "  b = (np.sum(dr * dr, axis=2) - rad ** 2) / dv2\n",
      "/tmp/ipykernel_6156/3310311755.py:6: RuntimeWarning: divide by zero encountered in divide\n",
      "  t = distance / (v @ wall_n.T)\n"
     ]
    }
   ],
   "source": [
    "# Calculate the time until the first collision and the\n",
    "# partners involved.\n",
    "dt_particle, particle1, particle2 = collision_time(r[0], v)\n",
    "dt_wall, particle_w, wall = boundary_of_sim(r[0], v)\n",
    "dt_collision = min(dt_particle, dt_wall)\n",
    "\n",
    "print(f\"dt_particle = {dt_particle}\")\n",
    "print(f\"particle1 = {particle1}\")\n",
    "print(f\"particle2 = {particle2}\")\n",
    "\n",
    "print(f\"dt_wall = {dt_wall}\")\n",
    "print(f\"particle_w = {particle_w}\")\n",
    "print(f\"wall = {wall}\")\n",
    "print(f\"dt_collision  = {dt_collision }\")"
   ]
  },
  {
   "cell_type": "code",
   "execution_count": 12,
   "id": "348c365e-7283-4c6c-aa2e-c9d6769fddef",
   "metadata": {},
   "outputs": [
    {
     "name": "stderr",
     "output_type": "stream",
     "text": [
      "/tmp/ipykernel_6156/236699363.py:18: RuntimeWarning: invalid value encountered in divide\n",
      "  a = np.sum(dv * dr, axis=2) / dv2\n",
      "/tmp/ipykernel_6156/236699363.py:19: RuntimeWarning: divide by zero encountered in divide\n",
      "  b = (np.sum(dr * dr, axis=2) - rad ** 2) / dv2\n",
      "/tmp/ipykernel_6156/236699363.py:21: RuntimeWarning: invalid value encountered in sqrt\n",
      "  t = -a - np.sqrt(D)\n",
      "/tmp/ipykernel_6156/3310311755.py:6: RuntimeWarning: divide by zero encountered in divide\n",
      "  t = distance / (v @ wall_n.T)\n",
      "/tmp/ipykernel_6156/236699363.py:24: RuntimeWarning: All-NaN slice encountered\n",
      "  t_min = np.nanmin(t)\n"
     ]
    }
   ],
   "source": [
    "\n",
    "# Loop over the time steps.\n",
    "for i in range(1, t.size):\n",
    "    # Copy the positions from the previous time step.\n",
    "    r[i] = r[i - 1]\n",
    "\n",
    "    # Time that has already been simulated in this time step.\n",
    "    t1 = 0\n",
    "\n",
    "    # Handle all collisions in this one in turn timestep\n",
    "    while t1 + dt_collision <= dt:\n",
    "        # Move all particles forward until collision.\n",
    "        r[i] += v * dt_collision\n",
    "\n",
    "        # Collisions between particles among themselves.\n",
    "        if dt_particle <= dt_wall:\n",
    "            for k1, k2 in zip(particle1, particle2):\n",
    "                dr = r[i, k1] - r[i, k2]\n",
    "                dv = v[k1] - v[k2]\n",
    "                er = dr / np.linalg.norm(dr)\n",
    "                m1 = m[k1]\n",
    "                m2 = m[k2]\n",
    "                v1_s = v[k1] @ er\n",
    "                v2_s = v[k2] @ er\n",
    "\n",
    "                v1_s_new = (2 * m2 * v2_s + (m1 -m2) * v1_s) / (m1 + m2)\n",
    "                v2_s_new = (2 * m1 * v1_s + (m2 - m1) * v2_s) / (m1 + m2)\n",
    "\n",
    "                v[k1] += (v1_s_new - v1_s) * er\n",
    "                v[k2] += (v2_s_new - v2_s) * er\n",
    "\n",
    "        # Collisions between particles and walls.\n",
    "        if dt_particle >= dt_wall:\n",
    "            for n, w in zip(particle_w, wall):\n",
    "                v1_s = v[n] @ wall_n[w]\n",
    "                v[n] -= 2 * v1_s * wall_n[w]\n",
    "\n",
    "        # Within this time step Duration dt_collision already handled.\n",
    "        t1 += dt_collision\n",
    "\n",
    "        # Since collisions have taken place, we need these recalculate.\n",
    "        dt_particle, particle1, particle2 = collision_time(r[i], v)\n",
    "        dt_wall, particle_w, wall = boundary_of_sim(r[i], v)\n",
    "        dt_collision = min(dt_particle, dt_wall)\n",
    "\n",
    "    # Now find until the end of the current time step (dt)\n",
    "    # no more collision. We move all particles\n",
    "    # forward to the end of the time step and don't have to\n",
    "    # Check for collisions again.\n",
    "\n",
    "    r[i] += v * (dt - t1)\n",
    "    dt_collision -= dt - t1"
   ]
  },
  {
   "cell_type": "code",
   "execution_count": 13,
   "id": "0dff3425-e699-44f3-a4a8-145c3cbc3412",
   "metadata": {},
   "outputs": [
    {
     "data": {
      "image/png": "[encoded data removed]",
      "text/plain": [
       "<Figure size 576x432 with 1 Axes>"
      ]
     },
     "metadata": {
      "needs_background": "light"
     },
     "output_type": "display_data"
    }
   ],
   "source": [
    "fig = plt.figure(figsize=(8, 6))\n",
    "ax = fig.add_subplot(1, 1, 1)\n",
    "ax.set_xlabel('x [m]')\n",
    "ax.set_ylabel('y [m]')\n",
    "ax.set_xlim([-1.2, 1.2])\n",
    "ax.set_ylim([-0.6, 0.6])\n",
    "ax.set_aspect('equal')\n",
    "ax.grid()\n"
   ]
  },
  {
   "cell_type": "code",
   "execution_count": 14,
   "id": "9b5470b0-bbba-4828-8a77-a43440796485",
   "metadata": {},
   "outputs": [],
   "source": [
    "\n",
    "# Create a circle for each particle.\n",
    "circle = []\n",
    "for i in range(N):\n",
    "    c = mpl.patches.Circle([0, 0], radius[i])\n",
    "    ax.add_artist(c)\n",
    "    circle.append(c)\n",
    "\n",
    "\n",
    "\n",
    "\n"
   ]
  },
  {
   "cell_type": "code",
   "execution_count": 15,
   "id": "671d2304-a0f3-4626-a52f-5db77bef167d",
   "metadata": {},
   "outputs": [],
   "source": [
    "\n",
    "def update(n):\n",
    "    for i in range(N):\n",
    "        circle[i].set_center(r[n, i])\n",
    "    return circle"
   ]
  },
  {
   "cell_type": "code",
   "execution_count": 16,
   "id": "a47f6f4e-6369-4579-b608-18d5bd244bfe",
   "metadata": {},
   "outputs": [
    {
     "data": {
      "text/plain": [
       "<matplotlib.animation.FuncAnimation at 0x7f0ba6f7efd0>"
      ]
     },
     "execution_count": 16,
     "metadata": {},
     "output_type": "execute_result"
    }
   ],
   "source": [
    "ani = mpl.animation.FuncAnimation(fig, update, interval=30,\n",
    "                                  frames=t.size, blit=True)\n",
    "ani"
   ]
  },
  {
   "cell_type": "code",
   "execution_count": 17,
   "id": "2e6f6561-cc77-481b-964c-24a421cf7417",
   "metadata": {},
   "outputs": [],
   "source": [
    "plt.show()"
   ]
  },
  {
   "cell_type": "code",
   "execution_count": null,
   "id": "487eb4d9-be8b-438a-87b8-70b879b37a5d",
   "metadata": {},
   "outputs": [],
   "source": []
  }
 ],
 "metadata": {
  "kernelspec": {
   "display_name": "Python 3 (ipykernel)",
   "language": "python",
   "name": "python3"
  },
  "language_info": {
   "codemirror_mode": {
    "name": "ipython",
    "version": 3
   },
   "file_extension": ".py",
   "mimetype": "text/x-python",
   "name": "python",
   "nbconvert_exporter": "python",
   "pygments_lexer": "ipython3",
   "version": "3.9.13"
  }
 },
 "nbformat": 4,
 "nbformat_minor": 5
}
